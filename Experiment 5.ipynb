{
 "cells": [
  {
   "cell_type": "code",
   "execution_count": 2,
   "id": "b460ddae",
   "metadata": {},
   "outputs": [
    {
     "name": "stdout",
     "output_type": "stream",
     "text": [
      "Requirement already satisfied: pandas in c:\\users\\harshvardhan\\appdata\\local\\programs\\python\\python313\\lib\\site-packages (2.3.3)\n",
      "Requirement already satisfied: numpy>=1.26.0 in c:\\users\\harshvardhan\\appdata\\local\\programs\\python\\python313\\lib\\site-packages (from pandas) (2.3.3)\n",
      "Requirement already satisfied: python-dateutil>=2.8.2 in c:\\users\\harshvardhan\\appdata\\roaming\\python\\python313\\site-packages (from pandas) (2.9.0.post0)\n",
      "Requirement already satisfied: pytz>=2020.1 in c:\\users\\harshvardhan\\appdata\\local\\programs\\python\\python313\\lib\\site-packages (from pandas) (2025.2)\n",
      "Requirement already satisfied: tzdata>=2022.7 in c:\\users\\harshvardhan\\appdata\\local\\programs\\python\\python313\\lib\\site-packages (from pandas) (2025.2)\n",
      "Requirement already satisfied: six>=1.5 in c:\\users\\harshvardhan\\appdata\\roaming\\python\\python313\\site-packages (from python-dateutil>=2.8.2->pandas) (1.17.0)\n",
      "Note: you may need to restart the kernel to use updated packages.\n"
     ]
    },
    {
     "name": "stderr",
     "output_type": "stream",
     "text": [
      "\n",
      "[notice] A new release of pip is available: 25.2 -> 25.3\n",
      "[notice] To update, run: python.exe -m pip install --upgrade pip\n"
     ]
    }
   ],
   "source": [
    "pip install pandas "
   ]
  },
  {
   "cell_type": "code",
   "execution_count": 3,
   "id": "9e164716",
   "metadata": {},
   "outputs": [
    {
     "name": "stdout",
     "output_type": "stream",
     "text": [
      "         Date Region SalesPerson     Product  UnitsSold  UnitPrice  Revenue  \\\n",
      "0  2025-02-21  South       Priya      Laptop         18      21907   394326   \n",
      "1  2025-01-15   East       Rohit  Smartwatch         25      23777   594425   \n",
      "2  2025-03-13  North        Neha       Phone         27      32693   882711   \n",
      "3  2025-03-02  North       Karan       Phone         13      56745   737685   \n",
      "4  2025-01-21  North       Aditi  Smartwatch         14      47928   670992   \n",
      "\n",
      "     Profit  \n",
      "0   78865.2  \n",
      "1  118885.0  \n",
      "2  176542.2  \n",
      "3  147537.0  \n",
      "4  134198.4  \n",
      "<class 'pandas.core.frame.DataFrame'>\n",
      "RangeIndex: 200 entries, 0 to 199\n",
      "Data columns (total 8 columns):\n",
      " #   Column       Non-Null Count  Dtype  \n",
      "---  ------       --------------  -----  \n",
      " 0   Date         200 non-null    object \n",
      " 1   Region       200 non-null    object \n",
      " 2   SalesPerson  200 non-null    object \n",
      " 3   Product      200 non-null    object \n",
      " 4   UnitsSold    200 non-null    int64  \n",
      " 5   UnitPrice    200 non-null    int64  \n",
      " 6   Revenue      200 non-null    int64  \n",
      " 7   Profit       200 non-null    float64\n",
      "dtypes: float64(1), int64(3), object(4)\n",
      "memory usage: 12.6+ KB\n",
      "None\n"
     ]
    }
   ],
   "source": [
    "import pandas as pd\n",
    "df=pd.read_csv(r\"c:\\Users\\HarshVardhan\\Downloads\\salesdata.csv\")\n",
    "print(df.head ())\n",
    "print(df.info())\n"
   ]
  },
  {
   "cell_type": "markdown",
   "id": "2bcc28b7",
   "metadata": {},
   "source": [
    "Question 1: Check for missing values in the dataset."
   ]
  },
  {
   "cell_type": "code",
   "execution_count": 4,
   "id": "f0c42894",
   "metadata": {},
   "outputs": [
    {
     "name": "stdout",
     "output_type": "stream",
     "text": [
      "Missing values in each colum :\n",
      "Date           0\n",
      "Region         0\n",
      "SalesPerson    0\n",
      "Product        0\n",
      "UnitsSold      0\n",
      "UnitPrice      0\n",
      "Revenue        0\n",
      "Profit         0\n",
      "dtype: int64\n"
     ]
    }
   ],
   "source": [
    "df_missing =df.isnull().sum()\n",
    "print(\"Missing values in each colum :\")\n",
    "print(df_missing)"
   ]
  },
  {
   "cell_type": "markdown",
   "id": "a87002a2",
   "metadata": {},
   "source": [
    "Question 2: Show the summary statistics (describe()) for numerical columns."
   ]
  },
  {
   "cell_type": "code",
   "execution_count": 5,
   "id": "87614786",
   "metadata": {},
   "outputs": [
    {
     "name": "stdout",
     "output_type": "stream",
     "text": [
      "summary statistics for numerical columns:\n",
      "        UnitsSold     UnitPrice       Revenue         Profit\n",
      "count  200.000000    200.000000  2.000000e+02     200.000000\n",
      "mean    15.930000  30700.875000  4.948621e+05   98972.418000\n",
      "std      8.077831  16758.388252  4.105670e+05   82113.402244\n",
      "min      3.000000   5009.000000  3.368700e+04    6737.400000\n",
      "25%      8.000000  15537.500000  1.829940e+05   36598.800000\n",
      "50%     17.000000  28478.500000  3.391890e+05   67837.800000\n",
      "75%     23.000000  46471.500000  7.296232e+05  145924.650000\n",
      "max     29.000000  59553.000000  1.672401e+06  334480.200000\n"
     ]
    }
   ],
   "source": [
    "summary_stats = df.describe()\n",
    "print(\"summary statistics for numerical columns:\")\n",
    "print(summary_stats)"
   ]
  },
  {
   "cell_type": "markdown",
   "id": "83a90286",
   "metadata": {},
   "source": [
    "Question 3:Display all sales made in the “North” region."
   ]
  },
  {
   "cell_type": "code",
   "execution_count": 6,
   "id": "f46510e8",
   "metadata": {},
   "outputs": [
    {
     "name": "stdout",
     "output_type": "stream",
     "text": [
      "Sales made in the North Region \n",
      "           Date Region SalesPerson     Product  UnitsSold  UnitPrice  Revenue  \\\n",
      "2    2025-03-13  North        Neha       Phone         27      32693   882711   \n",
      "3    2025-03-02  North       Karan       Phone         13      56745   737685   \n",
      "4    2025-01-21  North       Aditi  Smartwatch         14      47928   670992   \n",
      "6    2025-03-28  North        Aman       Phone         18      51892   934056   \n",
      "8    2025-03-16  North       Aditi       Phone          8      28624   228992   \n",
      "14   2025-01-02  North       Aditi  Smartwatch          6      15478    92868   \n",
      "16   2025-01-30  North      Simran       Phone         10      24262   242620   \n",
      "17   2025-02-07  North       Priya      Laptop         28      58295  1632260   \n",
      "21   2025-01-21  North       Aditi  Headphones          6      18568   111408   \n",
      "33   2025-03-03  North       Rohit      Laptop          5      49247   246235   \n",
      "37   2025-02-20  North      Simran  Headphones          7       9621    67347   \n",
      "46   2025-01-18  North       Aditi      Laptop          7       6531    45717   \n",
      "47   2025-01-04  North        Aman       Phone         25      45940  1148500   \n",
      "52   2025-03-31  North        Aman       Phone         20      39674   793480   \n",
      "67   2025-01-02  North       Karan  Headphones          5       9632    48160   \n",
      "68   2025-01-06  North       Priya       Phone          3      44056   132168   \n",
      "74   2025-03-31  North        Aman  Headphones          7      13258    92806   \n",
      "77   2025-03-15  North        Neha  Smartwatch          5      11371    56855   \n",
      "78   2025-03-03  North      Simran  Headphones         23      58358  1342234   \n",
      "90   2025-02-22  North      Simran      Tablet         16      59553   952848   \n",
      "93   2025-03-30  North       Rohit  Headphones         15      15167   227505   \n",
      "95   2025-02-10  North       Rahul      Laptop          6      22260   133560   \n",
      "99   2025-03-06  North       Rahul  Headphones          4      55612   222448   \n",
      "100  2025-03-30  North       Rohit  Headphones         10      32285   322850   \n",
      "104  2025-01-01  North       Karan  Smartwatch          4      10622    42488   \n",
      "105  2025-01-08  North       Priya      Tablet         24      11767   282408   \n",
      "115  2025-02-10  North       Rohit  Smartwatch         29      40358  1170382   \n",
      "119  2025-03-13  North       Rohit  Smartwatch         17      14111   239887   \n",
      "129  2025-03-27  North       Rahul  Headphones          8      23935   191480   \n",
      "131  2025-03-06  North        Neha  Smartwatch          8      18234   145872   \n",
      "132  2025-02-16  North       Aditi  Smartwatch         20      43328   866560   \n",
      "141  2025-03-20  North       Rahul  Smartwatch          8      11469    91752   \n",
      "142  2025-01-15  North       Priya      Tablet          3      35105   105315   \n",
      "144  2025-02-11  North      Simran      Laptop         17      31386   533562   \n",
      "146  2025-02-20  North       Aditi      Laptop         12      50587   607044   \n",
      "148  2025-02-21  North       Priya  Smartwatch         19      44051   836969   \n",
      "156  2025-02-01  North       Rohit       Phone         22      25618   563596   \n",
      "158  2025-02-28  North        Aman      Tablet          7      44756   313292   \n",
      "170  2025-03-25  North       Rohit      Tablet         27      10287   277749   \n",
      "177  2025-01-27  North        Neha      Laptop         10      56146   561460   \n",
      "179  2025-03-18  North       Rohit       Phone         10      19231   192310   \n",
      "183  2025-01-27  North       Karan  Smartwatch          5      33253   166265   \n",
      "184  2025-01-09  North       Priya  Smartwatch          5      47078   235390   \n",
      "186  2025-02-06  North       Aditi      Tablet         20      22988   459760   \n",
      "192  2025-02-01  North       Karan  Headphones         20      13567   271340   \n",
      "194  2025-02-21  North       Rahul       Phone         24      10256   246144   \n",
      "198  2025-01-12  North      Simran  Smartwatch          7      10415    72905   \n",
      "\n",
      "       Profit  \n",
      "2    176542.2  \n",
      "3    147537.0  \n",
      "4    134198.4  \n",
      "6    186811.2  \n",
      "8     45798.4  \n",
      "14    18573.6  \n",
      "16    48524.0  \n",
      "17   326452.0  \n",
      "21    22281.6  \n",
      "33    49247.0  \n",
      "37    13469.4  \n",
      "46     9143.4  \n",
      "47   229700.0  \n",
      "52   158696.0  \n",
      "67     9632.0  \n",
      "68    26433.6  \n",
      "74    18561.2  \n",
      "77    11371.0  \n",
      "78   268446.8  \n",
      "90   190569.6  \n",
      "93    45501.0  \n",
      "95    26712.0  \n",
      "99    44489.6  \n",
      "100   64570.0  \n",
      "104    8497.6  \n",
      "105   56481.6  \n",
      "115  234076.4  \n",
      "119   47977.4  \n",
      "129   38296.0  \n",
      "131   29174.4  \n",
      "132  173312.0  \n",
      "141   18350.4  \n",
      "142   21063.0  \n",
      "144  106712.4  \n",
      "146  121408.8  \n",
      "148  167393.8  \n",
      "156  112719.2  \n",
      "158   62658.4  \n",
      "170   55549.8  \n",
      "177  112292.0  \n",
      "179   38462.0  \n",
      "183   33253.0  \n",
      "184   47078.0  \n",
      "186   91952.0  \n",
      "192   54268.0  \n",
      "194   49228.8  \n",
      "198   14581.0  \n"
     ]
    }
   ],
   "source": [
    "north_sales = df[df[\"Region\"] == \"North\"]\n",
    "print(\"Sales made in the North Region \")\n",
    "print(north_sales)"
   ]
  },
  {
   "cell_type": "markdown",
   "id": "6ed3ffd1",
   "metadata": {},
   "source": [
    "Question 4:Show all records where UnitsSold > 20."
   ]
  },
  {
   "cell_type": "code",
   "execution_count": 7,
   "id": "eae975be",
   "metadata": {},
   "outputs": [
    {
     "name": "stdout",
     "output_type": "stream",
     "text": [
      "           Date Region SalesPerson     Product  UnitsSold  UnitPrice  Revenue  \\\n",
      "1    2025-01-15   East       Rohit  Smartwatch         25      23777   594425   \n",
      "2    2025-03-13  North        Neha       Phone         27      32693   882711   \n",
      "10   2025-01-24  South       Priya      Tablet         26      15488   402688   \n",
      "11   2025-01-03   West      Simran       Phone         23      27574   634202   \n",
      "13   2025-02-22   East       Karan  Smartwatch         28      48221  1350188   \n",
      "..          ...    ...         ...         ...        ...        ...      ...   \n",
      "188  2025-02-13   East       Rohit  Smartwatch         21      17219   361599   \n",
      "189  2025-01-24   West       Rohit  Headphones         21       5235   109935   \n",
      "190  2025-03-20   East       Karan      Tablet         23      47929  1102367   \n",
      "194  2025-02-21  North       Rahul       Phone         24      10256   246144   \n",
      "195  2025-03-03   West       Rahul      Laptop         23      24019   552437   \n",
      "\n",
      "       Profit  \n",
      "1    118885.0  \n",
      "2    176542.2  \n",
      "10    80537.6  \n",
      "11   126840.4  \n",
      "13   270037.6  \n",
      "..        ...  \n",
      "188   72319.8  \n",
      "189   21987.0  \n",
      "190  220473.4  \n",
      "194   49228.8  \n",
      "195  110487.4  \n",
      "\n",
      "[68 rows x 8 columns]\n"
     ]
    }
   ],
   "source": [
    "unit_sold=df[df[\"UnitsSold\"]>20]\n",
    "print(unit_sold)"
   ]
  },
  {
   "cell_type": "markdown",
   "id": "39c17438",
   "metadata": {},
   "source": [
    "Question 5:Filter sales where Revenue is greater than ₹500,000."
   ]
  },
  {
   "cell_type": "code",
   "execution_count": 8,
   "id": "533330a0",
   "metadata": {},
   "outputs": [
    {
     "name": "stdout",
     "output_type": "stream",
     "text": [
      "           Date Region SalesPerson     Product  UnitsSold  UnitPrice  Revenue  \\\n",
      "1    2025-01-15   East       Rohit  Smartwatch         25      23777   594425   \n",
      "2    2025-03-13  North        Neha       Phone         27      32693   882711   \n",
      "3    2025-03-02  North       Karan       Phone         13      56745   737685   \n",
      "4    2025-01-21  North       Aditi  Smartwatch         14      47928   670992   \n",
      "6    2025-03-28  North        Aman       Phone         18      51892   934056   \n",
      "..          ...    ...         ...         ...        ...        ...      ...   \n",
      "182  2025-03-13   West       Rohit  Smartwatch         27      41258  1113966   \n",
      "185  2025-03-03   West      Simran  Smartwatch         29      45752  1326808   \n",
      "187  2025-02-20   West       Rohit  Headphones         28      36037  1009036   \n",
      "190  2025-03-20   East       Karan      Tablet         23      47929  1102367   \n",
      "195  2025-03-03   West       Rahul      Laptop         23      24019   552437   \n",
      "\n",
      "       Profit  \n",
      "1    118885.0  \n",
      "2    176542.2  \n",
      "3    147537.0  \n",
      "4    134198.4  \n",
      "6    186811.2  \n",
      "..        ...  \n",
      "182  222793.2  \n",
      "185  265361.6  \n",
      "187  201807.2  \n",
      "190  220473.4  \n",
      "195  110487.4  \n",
      "\n",
      "[78 rows x 8 columns]\n"
     ]
    }
   ],
   "source": [
    "sales_above_500k=df[df[\"Revenue\"]>500000]\n",
    "print(sales_above_500k)"
   ]
  },
  {
   "cell_type": "markdown",
   "id": "af8af8f9",
   "metadata": {},
   "source": [
    "Question 6:Sort the dataset by Profit in descending order."
   ]
  },
  {
   "cell_type": "code",
   "execution_count": 9,
   "id": "bbb28c98",
   "metadata": {},
   "outputs": [
    {
     "name": "stdout",
     "output_type": "stream",
     "text": [
      "           Date Region SalesPerson     Product  UnitsSold  UnitPrice  Revenue  \\\n",
      "108  2025-01-11   West       Priya  Headphones         29      57669  1672401   \n",
      "17   2025-02-07  North       Priya      Laptop         28      58295  1632260   \n",
      "61   2025-02-04   East        Aman  Smartwatch         29      56128  1627712   \n",
      "102  2025-01-09   East       Rohit       Phone         28      55885  1564780   \n",
      "48   2025-03-30   West       Aditi  Smartwatch         26      57497  1494922   \n",
      "..          ...    ...         ...         ...        ...        ...      ...   \n",
      "67   2025-01-02  North       Karan  Headphones          5       9632    48160   \n",
      "46   2025-01-18  North       Aditi      Laptop          7       6531    45717   \n",
      "104  2025-01-01  North       Karan  Smartwatch          4      10622    42488   \n",
      "40   2025-01-03  South       Rahul  Headphones          4      10126    40504   \n",
      "64   2025-02-05   West       Rahul  Smartwatch          3      11229    33687   \n",
      "\n",
      "       Profit  \n",
      "108  334480.2  \n",
      "17   326452.0  \n",
      "61   325542.4  \n",
      "102  312956.0  \n",
      "48   298984.4  \n",
      "..        ...  \n",
      "67     9632.0  \n",
      "46     9143.4  \n",
      "104    8497.6  \n",
      "40     8100.8  \n",
      "64     6737.4  \n",
      "\n",
      "[200 rows x 8 columns]\n"
     ]
    }
   ],
   "source": [
    "profit_sorted= df.sort_values(by=\"Profit\", ascending=False)\n",
    "print(profit_sorted)"
   ]
  },
  {
   "cell_type": "markdown",
   "id": "70d48326",
   "metadata": {},
   "source": [
    "Question 6:Find the total Revenue generated from each Region."
   ]
  },
  {
   "cell_type": "code",
   "execution_count": 10,
   "id": "7f83c9f4",
   "metadata": {},
   "outputs": [
    {
     "name": "stdout",
     "output_type": "stream",
     "text": [
      "  Region   Revenue\n",
      "0   East  23300033\n",
      "1  North  19840235\n",
      "2  South  18297086\n",
      "3   West  37535064\n"
     ]
    }
   ],
   "source": [
    "total_revenue_by_region= df.groupby(\"Region\")[\"Revenue\"].sum().reset_index()\n",
    "print(total_revenue_by_region)"
   ]
  },
  {
   "cell_type": "markdown",
   "id": "f79b7f92",
   "metadata": {},
   "source": [
    "Question 7:Identify which region has the highest total profit."
   ]
  },
  {
   "cell_type": "code",
   "execution_count": 11,
   "id": "2b8f9751",
   "metadata": {},
   "outputs": [
    {
     "name": "stdout",
     "output_type": "stream",
     "text": [
      "  Region     Profit\n",
      "0   East  4660006.6\n",
      "1  North  3968047.0\n",
      "2  South  3659417.2\n",
      "3   West  7507012.8\n"
     ]
    }
   ],
   "source": [
    "region_profit=df.groupby(\"Region\")[\"Profit\"].sum().reset_index()\n",
    "print(region_profit)"
   ]
  },
  {
   "cell_type": "markdown",
   "id": "55d71bbc",
   "metadata": {},
   "source": [
    "Question 8:Find the average Profit per transaction in each region."
   ]
  },
  {
   "cell_type": "code",
   "execution_count": 12,
   "id": "33494fc6",
   "metadata": {},
   "outputs": [
    {
     "name": "stdout",
     "output_type": "stream",
     "text": [
      "  Region         Profit\n",
      "0   East  103555.702222\n",
      "1  North   84426.531915\n",
      "2  South   87128.980952\n",
      "3   West  113742.618182\n"
     ]
    }
   ],
   "source": [
    "avg_profit_per_transaction=df.groupby(\"Region\")[\"Profit\"].mean().reset_index()\n",
    "print(avg_profit_per_transaction)"
   ]
  },
  {
   "cell_type": "markdown",
   "id": "49f0339a",
   "metadata": {},
   "source": [
    "Question 9:Which product generated the highest average revenue?"
   ]
  },
  {
   "cell_type": "code",
   "execution_count": 13,
   "id": "bcb29723",
   "metadata": {},
   "outputs": [
    {
     "name": "stdout",
     "output_type": "stream",
     "text": [
      "      Product     Revenue\n",
      "3  Smartwatch  580052.875\n"
     ]
    }
   ],
   "source": [
    "product_highest_avg_revenue= df.groupby(\"Product\")[\"Revenue\"].mean().reset_index().sort_values(by=\"Revenue\").tail(1)\n",
    "print(product_highest_avg_revenue)"
   ]
  },
  {
   "cell_type": "markdown",
   "id": "03b19e38",
   "metadata": {},
   "source": [
    "Question 10:How many transactions involved the product “Laptop”?"
   ]
  },
  {
   "cell_type": "code",
   "execution_count": 14,
   "id": "dedda55a",
   "metadata": {},
   "outputs": [
    {
     "name": "stdout",
     "output_type": "stream",
     "text": [
      "           Date Region SalesPerson Product  UnitsSold  UnitPrice  Revenue  \\\n",
      "0    2025-02-21  South       Priya  Laptop         18      21907   394326   \n",
      "12   2025-01-22  South        Neha  Laptop         10      10240   102400   \n",
      "17   2025-02-07  North       Priya  Laptop         28      58295  1632260   \n",
      "25   2025-01-22  South       Rahul  Laptop         11       5302    58322   \n",
      "26   2025-03-30   West       Aditi  Laptop          3      22022    66066   \n",
      "33   2025-03-03  North       Rohit  Laptop          5      49247   246235   \n",
      "34   2025-03-03   East        Aman  Laptop          8      53513   428104   \n",
      "46   2025-01-18  North       Aditi  Laptop          7       6531    45717   \n",
      "54   2025-01-02   West       Priya  Laptop         19      51271   974149   \n",
      "63   2025-03-22   West       Karan  Laptop         15      34926   523890   \n",
      "66   2025-01-04   West       Aditi  Laptop         11      52915   582065   \n",
      "70   2025-01-04   West       Aditi  Laptop         18      49243   886374   \n",
      "72   2025-03-04  South        Aman  Laptop          8      47563   380504   \n",
      "76   2025-02-03   West       Karan  Laptop          8      31734   253872   \n",
      "79   2025-01-14  South      Simran  Laptop         25      31069   776725   \n",
      "81   2025-01-15   East       Rahul  Laptop         23      17910   411930   \n",
      "83   2025-03-19  South        Aman  Laptop         12      17199   206388   \n",
      "84   2025-03-28   East      Simran  Laptop         12      20728   248736   \n",
      "85   2025-03-03   East      Simran  Laptop         21      28275   593775   \n",
      "87   2025-03-26   West        Neha  Laptop         23      20913   480999   \n",
      "91   2025-01-24   West       Rohit  Laptop          3      53447   160341   \n",
      "95   2025-02-10  North       Rahul  Laptop          6      22260   133560   \n",
      "98   2025-02-14   West       Karan  Laptop         10      33024   330240   \n",
      "107  2025-03-04   East        Aman  Laptop          5      16613    83065   \n",
      "113  2025-02-02  South      Simran  Laptop         14      18046   252644   \n",
      "126  2025-03-29   East       Priya  Laptop         13      46605   605865   \n",
      "130  2025-02-04   East       Rohit  Laptop          4      52077   208308   \n",
      "134  2025-01-03   West      Simran  Laptop         20       5846   116920   \n",
      "144  2025-02-11  North      Simran  Laptop         17      31386   533562   \n",
      "146  2025-02-20  North       Aditi  Laptop         12      50587   607044   \n",
      "147  2025-03-04  South       Karan  Laptop         21      41976   881496   \n",
      "168  2025-01-28  South      Simran  Laptop         21      44809   940989   \n",
      "169  2025-02-13  South       Priya  Laptop         17      56212   955604   \n",
      "173  2025-03-16   West        Neha  Laptop         18       6342   114156   \n",
      "175  2025-03-03   East       Rahul  Laptop         24      24216   581184   \n",
      "176  2025-01-01  South        Aman  Laptop         18      56976  1025568   \n",
      "177  2025-01-27  North        Neha  Laptop         10      56146   561460   \n",
      "193  2025-03-29   West        Aman  Laptop         12      41298   495576   \n",
      "195  2025-03-03   West       Rahul  Laptop         23      24019   552437   \n",
      "196  2025-02-27   West        Aman  Laptop          8      13162   105296   \n",
      "197  2025-02-21  South       Priya  Laptop          3      56712   170136   \n",
      "\n",
      "       Profit  \n",
      "0     78865.2  \n",
      "12    20480.0  \n",
      "17   326452.0  \n",
      "25    11664.4  \n",
      "26    13213.2  \n",
      "33    49247.0  \n",
      "34    85620.8  \n",
      "46     9143.4  \n",
      "54   194829.8  \n",
      "63   104778.0  \n",
      "66   116413.0  \n",
      "70   177274.8  \n",
      "72    76100.8  \n",
      "76    50774.4  \n",
      "79   155345.0  \n",
      "81    82386.0  \n",
      "83    41277.6  \n",
      "84    49747.2  \n",
      "85   118755.0  \n",
      "87    96199.8  \n",
      "91    32068.2  \n",
      "95    26712.0  \n",
      "98    66048.0  \n",
      "107   16613.0  \n",
      "113   50528.8  \n",
      "126  121173.0  \n",
      "130   41661.6  \n",
      "134   23384.0  \n",
      "144  106712.4  \n",
      "146  121408.8  \n",
      "147  176299.2  \n",
      "168  188197.8  \n",
      "169  191120.8  \n",
      "173   22831.2  \n",
      "175  116236.8  \n",
      "176  205113.6  \n",
      "177  112292.0  \n",
      "193   99115.2  \n",
      "195  110487.4  \n",
      "196   21059.2  \n",
      "197   34027.2  \n"
     ]
    }
   ],
   "source": [
    "product_laptop_transactions=df[df[\"Product\"]==\"Laptop\"]\n",
    "print(product_laptop_transactions)"
   ]
  },
  {
   "cell_type": "markdown",
   "id": "627686c7",
   "metadata": {},
   "source": [
    "Question 11:Calculate the total revenue for each month (January, February, March)."
   ]
  },
  {
   "cell_type": "code",
   "execution_count": 15,
   "id": "c1d524ed",
   "metadata": {},
   "outputs": [
    {
     "name": "stdout",
     "output_type": "stream",
     "text": [
      "          Date  Revenue\n",
      "0   2025-01-01  1339274\n",
      "1   2025-01-02  2271097\n",
      "2   2025-01-03  1015384\n",
      "3   2025-01-04  2666275\n",
      "4   2025-01-05   751113\n",
      "..         ...      ...\n",
      "73  2025-03-27   416192\n",
      "74  2025-03-28  1182792\n",
      "75  2025-03-29  3858747\n",
      "76  2025-03-30  2739711\n",
      "77  2025-03-31  3227125\n",
      "\n",
      "[78 rows x 2 columns]\n"
     ]
    }
   ],
   "source": [
    "total_revenue_each_month=df.groupby(\"Date\")[\"Revenue\"].sum().reset_index()\n",
    "print(total_revenue_each_month)"
   ]
  },
  {
   "cell_type": "markdown",
   "id": "2f4b51bc",
   "metadata": {},
   "source": [
    "Question 12:Find which SalesPerson sold the most different types of products"
   ]
  },
  {
   "cell_type": "code",
   "execution_count": 19,
   "id": "7a2f26c8",
   "metadata": {},
   "outputs": [
    {
     "name": "stdout",
     "output_type": "stream",
     "text": [
      "SalesPerson\n",
      "Aditi     5\n",
      "Aman      5\n",
      "Karan     5\n",
      "Neha      5\n",
      "Priya     5\n",
      "Rahul     5\n",
      "Rohit     5\n",
      "Simran    5\n",
      "Name: Product, dtype: int64\n",
      "Aditi (5 unique products)\n"
     ]
    }
   ],
   "source": [
    "unique_products = df.groupby(\"SalesPerson\")[\"Product\"].nunique()\n",
    "top_seller = unique_products.idxmax()\n",
    "max_count = unique_products.max()\n",
    "print(unique_products)\n",
    "print(f\"{top_seller} ({max_count} unique products)\")"
   ]
  }
 ],
 "metadata": {
  "kernelspec": {
   "display_name": "Python 3",
   "language": "python",
   "name": "python3"
  },
  "language_info": {
   "codemirror_mode": {
    "name": "ipython",
    "version": 3
   },
   "file_extension": ".py",
   "mimetype": "text/x-python",
   "name": "python",
   "nbconvert_exporter": "python",
   "pygments_lexer": "ipython3",
   "version": "3.13.4"
  }
 },
 "nbformat": 4,
 "nbformat_minor": 5
}
