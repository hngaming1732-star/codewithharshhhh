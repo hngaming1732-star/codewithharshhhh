{
 "cells": [
  {
   "cell_type": "code",
   "execution_count": 2,
   "id": "deaaa884",
   "metadata": {},
   "outputs": [
    {
     "name": "stdout",
     "output_type": "stream",
     "text": [
      "Requirement already satisfied: Pandas in c:\\users\\harshvardhan\\appdata\\local\\programs\\python\\python313\\lib\\site-packages (2.3.3)\n",
      "Requirement already satisfied: numpy>=1.26.0 in c:\\users\\harshvardhan\\appdata\\local\\programs\\python\\python313\\lib\\site-packages (from Pandas) (2.3.3)\n",
      "Requirement already satisfied: python-dateutil>=2.8.2 in c:\\users\\harshvardhan\\appdata\\roaming\\python\\python313\\site-packages (from Pandas) (2.9.0.post0)\n",
      "Requirement already satisfied: pytz>=2020.1 in c:\\users\\harshvardhan\\appdata\\local\\programs\\python\\python313\\lib\\site-packages (from Pandas) (2025.2)\n",
      "Requirement already satisfied: tzdata>=2022.7 in c:\\users\\harshvardhan\\appdata\\local\\programs\\python\\python313\\lib\\site-packages (from Pandas) (2025.2)\n",
      "Requirement already satisfied: six>=1.5 in c:\\users\\harshvardhan\\appdata\\roaming\\python\\python313\\site-packages (from python-dateutil>=2.8.2->Pandas) (1.17.0)\n",
      "Note: you may need to restart the kernel to use updated packages.\n"
     ]
    },
    {
     "name": "stderr",
     "output_type": "stream",
     "text": [
      "\n",
      "[notice] A new release of pip is available: 25.2 -> 25.3\n",
      "[notice] To update, run: python.exe -m pip install --upgrade pip\n"
     ]
    }
   ],
   "source": [
    "pip install Pandas "
   ]
  },
  {
   "cell_type": "code",
   "execution_count": 3,
   "id": "c9a923cb",
   "metadata": {},
   "outputs": [
    {
     "data": {
      "text/html": [
       "<div>\n",
       "<style scoped>\n",
       "    .dataframe tbody tr th:only-of-type {\n",
       "        vertical-align: middle;\n",
       "    }\n",
       "\n",
       "    .dataframe tbody tr th {\n",
       "        vertical-align: top;\n",
       "    }\n",
       "\n",
       "    .dataframe thead th {\n",
       "        text-align: right;\n",
       "    }\n",
       "</style>\n",
       "<table border=\"1\" class=\"dataframe\">\n",
       "  <thead>\n",
       "    <tr style=\"text-align: right;\">\n",
       "      <th></th>\n",
       "      <th>Date</th>\n",
       "      <th>Region</th>\n",
       "      <th>SalesPerson</th>\n",
       "      <th>Product</th>\n",
       "      <th>Quantity Sold</th>\n",
       "      <th>Unit Price (₹)</th>\n",
       "      <th>Total Sales (₹)</th>\n",
       "      <th>Customer Type</th>\n",
       "    </tr>\n",
       "  </thead>\n",
       "  <tbody>\n",
       "    <tr>\n",
       "      <th>0</th>\n",
       "      <td>2025-07-07</td>\n",
       "      <td>North</td>\n",
       "      <td>Kavya</td>\n",
       "      <td>Water Bottle</td>\n",
       "      <td>9</td>\n",
       "      <td>1816</td>\n",
       "      <td>16344</td>\n",
       "      <td>Wholesale</td>\n",
       "    </tr>\n",
       "    <tr>\n",
       "      <th>1</th>\n",
       "      <td>2025-04-13</td>\n",
       "      <td>East</td>\n",
       "      <td>Aarav</td>\n",
       "      <td>Gloves</td>\n",
       "      <td>12</td>\n",
       "      <td>2227</td>\n",
       "      <td>26724</td>\n",
       "      <td>Wholesale</td>\n",
       "    </tr>\n",
       "    <tr>\n",
       "      <th>2</th>\n",
       "      <td>2025-07-31</td>\n",
       "      <td>North</td>\n",
       "      <td>Vihaan</td>\n",
       "      <td>Jersey</td>\n",
       "      <td>12</td>\n",
       "      <td>1194</td>\n",
       "      <td>14328</td>\n",
       "      <td>Wholesale</td>\n",
       "    </tr>\n",
       "    <tr>\n",
       "      <th>3</th>\n",
       "      <td>2025-06-18</td>\n",
       "      <td>North</td>\n",
       "      <td>Aarav</td>\n",
       "      <td>Shoes</td>\n",
       "      <td>15</td>\n",
       "      <td>567</td>\n",
       "      <td>8505</td>\n",
       "      <td>Retail</td>\n",
       "    </tr>\n",
       "    <tr>\n",
       "      <th>4</th>\n",
       "      <td>2025-07-02</td>\n",
       "      <td>South</td>\n",
       "      <td>Meera</td>\n",
       "      <td>Socks</td>\n",
       "      <td>4</td>\n",
       "      <td>457</td>\n",
       "      <td>1828</td>\n",
       "      <td>Wholesale</td>\n",
       "    </tr>\n",
       "  </tbody>\n",
       "</table>\n",
       "</div>"
      ],
      "text/plain": [
       "         Date Region SalesPerson       Product  Quantity Sold  Unit Price (₹)  \\\n",
       "0  2025-07-07  North       Kavya  Water Bottle              9            1816   \n",
       "1  2025-04-13   East       Aarav        Gloves             12            2227   \n",
       "2  2025-07-31  North      Vihaan        Jersey             12            1194   \n",
       "3  2025-06-18  North       Aarav         Shoes             15             567   \n",
       "4  2025-07-02  South       Meera         Socks              4             457   \n",
       "\n",
       "   Total Sales (₹) Customer Type  \n",
       "0            16344     Wholesale  \n",
       "1            26724     Wholesale  \n",
       "2            14328     Wholesale  \n",
       "3             8505        Retail  \n",
       "4             1828     Wholesale  "
      ]
     },
     "execution_count": 3,
     "metadata": {},
     "output_type": "execute_result"
    }
   ],
   "source": [
    "import pandas as pd\n",
    "df=pd.read_csv(r'c:\\Users\\HarshVardhan\\Downloads\\Football_Accessories_Sales.csv')\n",
    "df.head()"
   ]
  },
  {
   "cell_type": "markdown",
   "id": "d720489b",
   "metadata": {},
   "source": [
    "Basic Data Exploration "
   ]
  },
  {
   "cell_type": "markdown",
   "id": "d8282bb8",
   "metadata": {},
   "source": [
    "Q1 - How many rows and columns does the dataset have?"
   ]
  },
  {
   "cell_type": "code",
   "execution_count": 4,
   "id": "e1c7663b",
   "metadata": {},
   "outputs": [
    {
     "data": {
      "text/plain": [
       "(150, 8)"
      ]
     },
     "execution_count": 4,
     "metadata": {},
     "output_type": "execute_result"
    }
   ],
   "source": [
    "df.shape"
   ]
  },
  {
   "cell_type": "markdown",
   "id": "155ff64b",
   "metadata": {},
   "source": [
    "Q2 - What are last 5 record of of the datasheet ?"
   ]
  },
  {
   "cell_type": "code",
   "execution_count": 5,
   "id": "a8ff973a",
   "metadata": {},
   "outputs": [
    {
     "data": {
      "text/html": [
       "<div>\n",
       "<style scoped>\n",
       "    .dataframe tbody tr th:only-of-type {\n",
       "        vertical-align: middle;\n",
       "    }\n",
       "\n",
       "    .dataframe tbody tr th {\n",
       "        vertical-align: top;\n",
       "    }\n",
       "\n",
       "    .dataframe thead th {\n",
       "        text-align: right;\n",
       "    }\n",
       "</style>\n",
       "<table border=\"1\" class=\"dataframe\">\n",
       "  <thead>\n",
       "    <tr style=\"text-align: right;\">\n",
       "      <th></th>\n",
       "      <th>Date</th>\n",
       "      <th>Region</th>\n",
       "      <th>SalesPerson</th>\n",
       "      <th>Product</th>\n",
       "      <th>Quantity Sold</th>\n",
       "      <th>Unit Price (₹)</th>\n",
       "      <th>Total Sales (₹)</th>\n",
       "      <th>Customer Type</th>\n",
       "    </tr>\n",
       "  </thead>\n",
       "  <tbody>\n",
       "    <tr>\n",
       "      <th>145</th>\n",
       "      <td>2025-09-18</td>\n",
       "      <td>West</td>\n",
       "      <td>Meera</td>\n",
       "      <td>Goal Net</td>\n",
       "      <td>2</td>\n",
       "      <td>1287</td>\n",
       "      <td>2574</td>\n",
       "      <td>Wholesale</td>\n",
       "    </tr>\n",
       "    <tr>\n",
       "      <th>146</th>\n",
       "      <td>2025-05-10</td>\n",
       "      <td>South</td>\n",
       "      <td>Kavya</td>\n",
       "      <td>Water Bottle</td>\n",
       "      <td>18</td>\n",
       "      <td>339</td>\n",
       "      <td>6102</td>\n",
       "      <td>Wholesale</td>\n",
       "    </tr>\n",
       "    <tr>\n",
       "      <th>147</th>\n",
       "      <td>2025-10-11</td>\n",
       "      <td>North</td>\n",
       "      <td>Kavya</td>\n",
       "      <td>Goal Net</td>\n",
       "      <td>15</td>\n",
       "      <td>2568</td>\n",
       "      <td>38520</td>\n",
       "      <td>Wholesale</td>\n",
       "    </tr>\n",
       "    <tr>\n",
       "      <th>148</th>\n",
       "      <td>2025-01-23</td>\n",
       "      <td>South</td>\n",
       "      <td>Aarav</td>\n",
       "      <td>Shin Guards</td>\n",
       "      <td>8</td>\n",
       "      <td>2209</td>\n",
       "      <td>17672</td>\n",
       "      <td>Wholesale</td>\n",
       "    </tr>\n",
       "    <tr>\n",
       "      <th>149</th>\n",
       "      <td>2025-06-27</td>\n",
       "      <td>West</td>\n",
       "      <td>Rohan</td>\n",
       "      <td>Jersey</td>\n",
       "      <td>19</td>\n",
       "      <td>1573</td>\n",
       "      <td>29887</td>\n",
       "      <td>Wholesale</td>\n",
       "    </tr>\n",
       "  </tbody>\n",
       "</table>\n",
       "</div>"
      ],
      "text/plain": [
       "           Date Region SalesPerson       Product  Quantity Sold  \\\n",
       "145  2025-09-18   West       Meera      Goal Net              2   \n",
       "146  2025-05-10  South       Kavya  Water Bottle             18   \n",
       "147  2025-10-11  North       Kavya      Goal Net             15   \n",
       "148  2025-01-23  South       Aarav   Shin Guards              8   \n",
       "149  2025-06-27   West       Rohan        Jersey             19   \n",
       "\n",
       "     Unit Price (₹)  Total Sales (₹) Customer Type  \n",
       "145            1287             2574     Wholesale  \n",
       "146             339             6102     Wholesale  \n",
       "147            2568            38520     Wholesale  \n",
       "148            2209            17672     Wholesale  \n",
       "149            1573            29887     Wholesale  "
      ]
     },
     "execution_count": 5,
     "metadata": {},
     "output_type": "execute_result"
    }
   ],
   "source": [
    "df.tail()"
   ]
  },
  {
   "cell_type": "markdown",
   "id": "930838d5",
   "metadata": {},
   "source": [
    "Q3 - Give the Summary of the datasheet ?"
   ]
  },
  {
   "cell_type": "code",
   "execution_count": 6,
   "id": "083d9406",
   "metadata": {},
   "outputs": [
    {
     "data": {
      "text/html": [
       "<div>\n",
       "<style scoped>\n",
       "    .dataframe tbody tr th:only-of-type {\n",
       "        vertical-align: middle;\n",
       "    }\n",
       "\n",
       "    .dataframe tbody tr th {\n",
       "        vertical-align: top;\n",
       "    }\n",
       "\n",
       "    .dataframe thead th {\n",
       "        text-align: right;\n",
       "    }\n",
       "</style>\n",
       "<table border=\"1\" class=\"dataframe\">\n",
       "  <thead>\n",
       "    <tr style=\"text-align: right;\">\n",
       "      <th></th>\n",
       "      <th>Quantity Sold</th>\n",
       "      <th>Unit Price (₹)</th>\n",
       "      <th>Total Sales (₹)</th>\n",
       "    </tr>\n",
       "  </thead>\n",
       "  <tbody>\n",
       "    <tr>\n",
       "      <th>count</th>\n",
       "      <td>150.00000</td>\n",
       "      <td>150.000000</td>\n",
       "      <td>150.000000</td>\n",
       "    </tr>\n",
       "    <tr>\n",
       "      <th>mean</th>\n",
       "      <td>10.52000</td>\n",
       "      <td>1655.613333</td>\n",
       "      <td>17403.773333</td>\n",
       "    </tr>\n",
       "    <tr>\n",
       "      <th>std</th>\n",
       "      <td>5.94575</td>\n",
       "      <td>749.317630</td>\n",
       "      <td>13170.145009</td>\n",
       "    </tr>\n",
       "    <tr>\n",
       "      <th>min</th>\n",
       "      <td>1.00000</td>\n",
       "      <td>302.000000</td>\n",
       "      <td>302.000000</td>\n",
       "    </tr>\n",
       "    <tr>\n",
       "      <th>25%</th>\n",
       "      <td>5.00000</td>\n",
       "      <td>1031.750000</td>\n",
       "      <td>6633.000000</td>\n",
       "    </tr>\n",
       "    <tr>\n",
       "      <th>50%</th>\n",
       "      <td>11.00000</td>\n",
       "      <td>1717.500000</td>\n",
       "      <td>14619.000000</td>\n",
       "    </tr>\n",
       "    <tr>\n",
       "      <th>75%</th>\n",
       "      <td>16.00000</td>\n",
       "      <td>2226.500000</td>\n",
       "      <td>24443.500000</td>\n",
       "    </tr>\n",
       "    <tr>\n",
       "      <th>max</th>\n",
       "      <td>20.00000</td>\n",
       "      <td>2991.000000</td>\n",
       "      <td>49842.000000</td>\n",
       "    </tr>\n",
       "  </tbody>\n",
       "</table>\n",
       "</div>"
      ],
      "text/plain": [
       "       Quantity Sold  Unit Price (₹)  Total Sales (₹)\n",
       "count      150.00000      150.000000       150.000000\n",
       "mean        10.52000     1655.613333     17403.773333\n",
       "std          5.94575      749.317630     13170.145009\n",
       "min          1.00000      302.000000       302.000000\n",
       "25%          5.00000     1031.750000      6633.000000\n",
       "50%         11.00000     1717.500000     14619.000000\n",
       "75%         16.00000     2226.500000     24443.500000\n",
       "max         20.00000     2991.000000     49842.000000"
      ]
     },
     "execution_count": 6,
     "metadata": {},
     "output_type": "execute_result"
    }
   ],
   "source": [
    "df.describe()"
   ]
  },
  {
   "cell_type": "markdown",
   "id": "010b5680",
   "metadata": {},
   "source": [
    "Q4 - Show what all datatypes are present in datasheet?"
   ]
  },
  {
   "cell_type": "code",
   "execution_count": 7,
   "id": "8d6485cd",
   "metadata": {},
   "outputs": [
    {
     "data": {
      "text/plain": [
       "Date               object\n",
       "Region             object\n",
       "SalesPerson        object\n",
       "Product            object\n",
       "Quantity Sold       int64\n",
       "Unit Price (₹)      int64\n",
       "Total Sales (₹)     int64\n",
       "Customer Type      object\n",
       "dtype: object"
      ]
     },
     "execution_count": 7,
     "metadata": {},
     "output_type": "execute_result"
    }
   ],
   "source": [
    "df.dtypes"
   ]
  },
  {
   "cell_type": "markdown",
   "id": "fc689905",
   "metadata": {},
   "source": [
    "Q5 - Display all the information of the datasheet?"
   ]
  },
  {
   "cell_type": "code",
   "execution_count": 8,
   "id": "1e39aad9",
   "metadata": {},
   "outputs": [
    {
     "name": "stdout",
     "output_type": "stream",
     "text": [
      "<class 'pandas.core.frame.DataFrame'>\n",
      "RangeIndex: 150 entries, 0 to 149\n",
      "Data columns (total 8 columns):\n",
      " #   Column           Non-Null Count  Dtype \n",
      "---  ------           --------------  ----- \n",
      " 0   Date             150 non-null    object\n",
      " 1   Region           150 non-null    object\n",
      " 2   SalesPerson      150 non-null    object\n",
      " 3   Product          150 non-null    object\n",
      " 4   Quantity Sold    150 non-null    int64 \n",
      " 5   Unit Price (₹)   150 non-null    int64 \n",
      " 6   Total Sales (₹)  150 non-null    int64 \n",
      " 7   Customer Type    150 non-null    object\n",
      "dtypes: int64(3), object(5)\n",
      "memory usage: 9.5+ KB\n"
     ]
    }
   ],
   "source": [
    "df.info()"
   ]
  },
  {
   "cell_type": "markdown",
   "id": "2b2b9425",
   "metadata": {},
   "source": [
    "Data cleaning "
   ]
  },
  {
   "cell_type": "markdown",
   "id": "c6f7dfd4",
   "metadata": {},
   "source": [
    "Q1 - Remove rows and columns with missing values ?"
   ]
  },
  {
   "cell_type": "code",
   "execution_count": 9,
   "id": "3c7451ce",
   "metadata": {},
   "outputs": [
    {
     "name": "stdout",
     "output_type": "stream",
     "text": [
      "           Date Region SalesPerson       Product  Quantity Sold  \\\n",
      "0    2025-07-07  North       Kavya  Water Bottle              9   \n",
      "1    2025-04-13   East       Aarav        Gloves             12   \n",
      "2    2025-07-31  North      Vihaan        Jersey             12   \n",
      "3    2025-06-18  North       Aarav         Shoes             15   \n",
      "4    2025-07-02  South       Meera         Socks              4   \n",
      "..          ...    ...         ...           ...            ...   \n",
      "145  2025-09-18   West       Meera      Goal Net              2   \n",
      "146  2025-05-10  South       Kavya  Water Bottle             18   \n",
      "147  2025-10-11  North       Kavya      Goal Net             15   \n",
      "148  2025-01-23  South       Aarav   Shin Guards              8   \n",
      "149  2025-06-27   West       Rohan        Jersey             19   \n",
      "\n",
      "     Unit Price (₹)  Total Sales (₹) Customer Type  \n",
      "0              1816            16344     Wholesale  \n",
      "1              2227            26724     Wholesale  \n",
      "2              1194            14328     Wholesale  \n",
      "3               567             8505        Retail  \n",
      "4               457             1828     Wholesale  \n",
      "..              ...              ...           ...  \n",
      "145            1287             2574     Wholesale  \n",
      "146             339             6102     Wholesale  \n",
      "147            2568            38520     Wholesale  \n",
      "148            2209            17672     Wholesale  \n",
      "149            1573            29887     Wholesale  \n",
      "\n",
      "[150 rows x 8 columns]\n"
     ]
    }
   ],
   "source": [
    "df_cleaned = df.dropna()\n",
    "print (df_cleaned)"
   ]
  },
  {
   "cell_type": "markdown",
   "id": "562a5f73",
   "metadata": {},
   "source": [
    "DATA MANIPULATION"
   ]
  },
  {
   "cell_type": "markdown",
   "id": "d0df2965",
   "metadata": {},
   "source": [
    "Q1 - Remove all the unnecessary Rows and Columns "
   ]
  },
  {
   "cell_type": "code",
   "execution_count": 10,
   "id": "169c7c6e",
   "metadata": {},
   "outputs": [
    {
     "name": "stdout",
     "output_type": "stream",
     "text": [
      "           Date Region SalesPerson       Product  Quantity Sold  \\\n",
      "0    2025-07-07  North       Kavya  Water Bottle              9   \n",
      "1    2025-04-13   East       Aarav        Gloves             12   \n",
      "2    2025-07-31  North      Vihaan        Jersey             12   \n",
      "3    2025-06-18  North       Aarav         Shoes             15   \n",
      "4    2025-07-02  South       Meera         Socks              4   \n",
      "..          ...    ...         ...           ...            ...   \n",
      "145  2025-09-18   West       Meera      Goal Net              2   \n",
      "146  2025-05-10  South       Kavya  Water Bottle             18   \n",
      "147  2025-10-11  North       Kavya      Goal Net             15   \n",
      "148  2025-01-23  South       Aarav   Shin Guards              8   \n",
      "149  2025-06-27   West       Rohan        Jersey             19   \n",
      "\n",
      "     Unit Price (₹)  Total Sales (₹)  \n",
      "0              1816            16344  \n",
      "1              2227            26724  \n",
      "2              1194            14328  \n",
      "3               567             8505  \n",
      "4               457             1828  \n",
      "..              ...              ...  \n",
      "145            1287             2574  \n",
      "146             339             6102  \n",
      "147            2568            38520  \n",
      "148            2209            17672  \n",
      "149            1573            29887  \n",
      "\n",
      "[150 rows x 7 columns]\n"
     ]
    }
   ],
   "source": [
    "df_dropped=df.drop(columns=[\"Customer Type\"])\n",
    "print(df_dropped)"
   ]
  },
  {
   "cell_type": "markdown",
   "id": "07987d47",
   "metadata": {},
   "source": [
    "Q2 - Replace SalesPerson to SalesPerson Name "
   ]
  },
  {
   "cell_type": "code",
   "execution_count": 13,
   "id": "9cc0721a",
   "metadata": {},
   "outputs": [
    {
     "name": "stdout",
     "output_type": "stream",
     "text": [
      "           Date Region SalesPerson       Product  Quantity Sold  \\\n",
      "0    2025-07-07  North       Kavya  Water Bottle              9   \n",
      "1    2025-04-13   East       Aarav        Gloves             12   \n",
      "2    2025-07-31  North      Vihaan        Jersey             12   \n",
      "3    2025-06-18  North       Aarav         Shoes             15   \n",
      "4    2025-07-02  South       Meera         Socks              4   \n",
      "..          ...    ...         ...           ...            ...   \n",
      "145  2025-09-18   West       Meera      Goal Net              2   \n",
      "146  2025-05-10  South       Kavya  Water Bottle             18   \n",
      "147  2025-10-11  North       Kavya      Goal Net             15   \n",
      "148  2025-01-23  South       Aarav   Shin Guards              8   \n",
      "149  2025-06-27   West       Rohan        Jersey             19   \n",
      "\n",
      "     Unit Price (₹)  Total Sales (₹) Customer Type  \n",
      "0              1816            16344     Wholesale  \n",
      "1              2227            26724     Wholesale  \n",
      "2              1194            14328     Wholesale  \n",
      "3               567             8505        Retail  \n",
      "4               457             1828     Wholesale  \n",
      "..              ...              ...           ...  \n",
      "145            1287             2574     Wholesale  \n",
      "146             339             6102     Wholesale  \n",
      "147            2568            38520     Wholesale  \n",
      "148            2209            17672     Wholesale  \n",
      "149            1573            29887     Wholesale  \n",
      "\n",
      "[150 rows x 8 columns]\n"
     ]
    }
   ],
   "source": [
    "df_replaced=df.replace({\"SalesPerson\":\"SalesPersonName\"})\n",
    "print(df_replaced)"
   ]
  },
  {
   "cell_type": "markdown",
   "id": "d4a5aac1",
   "metadata": {},
   "source": [
    "Q3 - Display all sales made in the “North” region."
   ]
  },
  {
   "cell_type": "code",
   "execution_count": 14,
   "id": "7a6695bc",
   "metadata": {},
   "outputs": [
    {
     "name": "stdout",
     "output_type": "stream",
     "text": [
      "           Date Region SalesPerson       Product  Quantity Sold  \\\n",
      "0    2025-07-07  North       Kavya  Water Bottle              9   \n",
      "2    2025-07-31  North      Vihaan        Jersey             12   \n",
      "3    2025-06-18  North       Aarav         Shoes             15   \n",
      "10   2025-07-22  North       Anaya        Gloves              1   \n",
      "11   2025-08-18  North       Kavya         Shoes             15   \n",
      "13   2025-07-07  North        Isha        Gloves             19   \n",
      "20   2025-02-02  North       Meera         Shoes              6   \n",
      "27   2025-01-11  North       Anaya         Socks             19   \n",
      "38   2025-05-30  North       Rohan         Socks             16   \n",
      "42   2025-08-31  North       Meera         Socks              3   \n",
      "44   2025-05-13  North       Rohan        Gloves             14   \n",
      "48   2025-09-08  North         Dev      Football             12   \n",
      "54   2025-01-19  North       Anaya  Water Bottle             11   \n",
      "60   2025-01-06  North       Meera        Jersey             19   \n",
      "62   2025-07-10  North      Vihaan        Gloves              2   \n",
      "63   2025-01-09  North       Anaya      Football             10   \n",
      "70   2025-04-03  North       Meera         Socks             19   \n",
      "72   2025-07-27  North        Isha      Football              2   \n",
      "73   2025-08-29  North       Kavya      Goal Net             10   \n",
      "75   2025-09-07  North       Anaya      Football             18   \n",
      "77   2025-07-17  North       Aarav      Goal Net             13   \n",
      "79   2025-10-05  North         Dev         Socks             11   \n",
      "86   2025-07-18  North       Anaya        Jersey             18   \n",
      "87   2025-06-01  North       Kavya         Socks             17   \n",
      "89   2025-03-17  North       Aarav         Socks             11   \n",
      "90   2025-01-01  North         Dev   Shin Guards              1   \n",
      "99   2025-02-20  North       Rohan         Socks             14   \n",
      "102  2025-08-29  North       Aarav         Shoes             14   \n",
      "106  2025-08-09  North         Dev        Jersey              7   \n",
      "121  2025-03-07  North        Isha         Socks              9   \n",
      "127  2025-05-18  North       Kavya         Socks             14   \n",
      "130  2025-04-22  North       Aarav         Socks             16   \n",
      "133  2025-04-24  North       Meera         Shoes              1   \n",
      "134  2025-03-06  North        Isha        Jersey              4   \n",
      "139  2025-07-16  North       Aarav        Jersey              9   \n",
      "147  2025-10-11  North       Kavya      Goal Net             15   \n",
      "\n",
      "     Unit Price (₹)  Total Sales (₹) Customer Type  \n",
      "0              1816            16344     Wholesale  \n",
      "2              1194            14328     Wholesale  \n",
      "3               567             8505        Retail  \n",
      "10             1267             1267        Retail  \n",
      "11             1409            21135     Wholesale  \n",
      "13              770            14630        Retail  \n",
      "20             1841            11046        Retail  \n",
      "27             2322            44118     Wholesale  \n",
      "38             2175            34800        Retail  \n",
      "42              879             2637     Wholesale  \n",
      "44             1176            16464        Retail  \n",
      "48             1722            20664     Wholesale  \n",
      "54              650             7150        Retail  \n",
      "60             1973            37487     Wholesale  \n",
      "62             2043             4086        Retail  \n",
      "63              427             4270     Wholesale  \n",
      "70             1892            35948     Wholesale  \n",
      "72             2540             5080        Retail  \n",
      "73             1133            11330        Retail  \n",
      "75             1831            32958     Wholesale  \n",
      "77             1873            24349        Retail  \n",
      "79             1574            17314        Retail  \n",
      "86             1105            19890        Retail  \n",
      "87             2599            44183     Wholesale  \n",
      "89             2679            29469     Wholesale  \n",
      "90             1861             1861     Wholesale  \n",
      "99             1081            15134     Wholesale  \n",
      "102             531             7434        Retail  \n",
      "106            2161            15127        Retail  \n",
      "121            2232            20088        Retail  \n",
      "127            2361            33054     Wholesale  \n",
      "130            1625            26000     Wholesale  \n",
      "133            2791             2791     Wholesale  \n",
      "134            2141             8564     Wholesale  \n",
      "139            2325            20925        Retail  \n",
      "147            2568            38520     Wholesale  \n"
     ]
    }
   ],
   "source": [
    "Sales_in_Northregion= df[df['Region']=='North']\n",
    "print(Sales_in_Northregion)"
   ]
  },
  {
   "cell_type": "markdown",
   "id": "4837bea5",
   "metadata": {},
   "source": [
    "MATPLOTLIB "
   ]
  },
  {
   "cell_type": "code",
   "execution_count": 20,
   "id": "1be36ee0",
   "metadata": {},
   "outputs": [
    {
     "name": "stdout",
     "output_type": "stream",
     "text": [
      "Requirement already satisfied: matplotlib in c:\\users\\harshvardhan\\appdata\\local\\programs\\python\\python313\\lib\\site-packages (3.10.7)\n",
      "Requirement already satisfied: contourpy>=1.0.1 in c:\\users\\harshvardhan\\appdata\\local\\programs\\python\\python313\\lib\\site-packages (from matplotlib) (1.3.3)\n",
      "Requirement already satisfied: cycler>=0.10 in c:\\users\\harshvardhan\\appdata\\local\\programs\\python\\python313\\lib\\site-packages (from matplotlib) (0.12.1)\n",
      "Requirement already satisfied: fonttools>=4.22.0 in c:\\users\\harshvardhan\\appdata\\local\\programs\\python\\python313\\lib\\site-packages (from matplotlib) (4.60.1)\n",
      "Requirement already satisfied: kiwisolver>=1.3.1 in c:\\users\\harshvardhan\\appdata\\local\\programs\\python\\python313\\lib\\site-packages (from matplotlib) (1.4.9)\n",
      "Requirement already satisfied: numpy>=1.23 in c:\\users\\harshvardhan\\appdata\\local\\programs\\python\\python313\\lib\\site-packages (from matplotlib) (2.3.3)\n",
      "Requirement already satisfied: packaging>=20.0 in c:\\users\\harshvardhan\\appdata\\roaming\\python\\python313\\site-packages (from matplotlib) (25.0)\n",
      "Requirement already satisfied: pillow>=8 in c:\\users\\harshvardhan\\appdata\\local\\programs\\python\\python313\\lib\\site-packages (from matplotlib) (12.0.0)\n",
      "Requirement already satisfied: pyparsing>=3 in c:\\users\\harshvardhan\\appdata\\local\\programs\\python\\python313\\lib\\site-packages (from matplotlib) (3.2.5)\n",
      "Requirement already satisfied: python-dateutil>=2.7 in c:\\users\\harshvardhan\\appdata\\roaming\\python\\python313\\site-packages (from matplotlib) (2.9.0.post0)\n",
      "Requirement already satisfied: six>=1.5 in c:\\users\\harshvardhan\\appdata\\roaming\\python\\python313\\site-packages (from python-dateutil>=2.7->matplotlib) (1.17.0)\n",
      "Note: you may need to restart the kernel to use updated packages.\n"
     ]
    },
    {
     "name": "stderr",
     "output_type": "stream",
     "text": [
      "\n",
      "[notice] A new release of pip is available: 25.2 -> 25.3\n",
      "[notice] To update, run: python.exe -m pip install --upgrade pip\n"
     ]
    }
   ],
   "source": [
    "pip install matplotlib"
   ]
  },
  {
   "cell_type": "code",
   "execution_count": 28,
   "id": "55c91855",
   "metadata": {},
   "outputs": [],
   "source": [
    "import matplotlib.pyplot as plt "
   ]
  },
  {
   "cell_type": "code",
   "execution_count": 29,
   "id": "0d1d004a",
   "metadata": {},
   "outputs": [
    {
     "data": {
      "text/html": [
       "<div>\n",
       "<style scoped>\n",
       "    .dataframe tbody tr th:only-of-type {\n",
       "        vertical-align: middle;\n",
       "    }\n",
       "\n",
       "    .dataframe tbody tr th {\n",
       "        vertical-align: top;\n",
       "    }\n",
       "\n",
       "    .dataframe thead th {\n",
       "        text-align: right;\n",
       "    }\n",
       "</style>\n",
       "<table border=\"1\" class=\"dataframe\">\n",
       "  <thead>\n",
       "    <tr style=\"text-align: right;\">\n",
       "      <th></th>\n",
       "      <th>Date</th>\n",
       "      <th>Region</th>\n",
       "      <th>SalesPerson</th>\n",
       "      <th>Product</th>\n",
       "      <th>Quantity Sold</th>\n",
       "      <th>Unit Price (₹)</th>\n",
       "      <th>Total Sales (₹)</th>\n",
       "      <th>Customer Type</th>\n",
       "      <th>Month</th>\n",
       "    </tr>\n",
       "  </thead>\n",
       "  <tbody>\n",
       "    <tr>\n",
       "      <th>0</th>\n",
       "      <td>2025-07-07</td>\n",
       "      <td>North</td>\n",
       "      <td>Kavya</td>\n",
       "      <td>Water Bottle</td>\n",
       "      <td>9</td>\n",
       "      <td>1816</td>\n",
       "      <td>16344</td>\n",
       "      <td>Wholesale</td>\n",
       "      <td>July</td>\n",
       "    </tr>\n",
       "    <tr>\n",
       "      <th>1</th>\n",
       "      <td>2025-04-13</td>\n",
       "      <td>East</td>\n",
       "      <td>Aarav</td>\n",
       "      <td>Gloves</td>\n",
       "      <td>12</td>\n",
       "      <td>2227</td>\n",
       "      <td>26724</td>\n",
       "      <td>Wholesale</td>\n",
       "      <td>April</td>\n",
       "    </tr>\n",
       "    <tr>\n",
       "      <th>2</th>\n",
       "      <td>2025-07-31</td>\n",
       "      <td>North</td>\n",
       "      <td>Vihaan</td>\n",
       "      <td>Jersey</td>\n",
       "      <td>12</td>\n",
       "      <td>1194</td>\n",
       "      <td>14328</td>\n",
       "      <td>Wholesale</td>\n",
       "      <td>July</td>\n",
       "    </tr>\n",
       "    <tr>\n",
       "      <th>3</th>\n",
       "      <td>2025-06-18</td>\n",
       "      <td>North</td>\n",
       "      <td>Aarav</td>\n",
       "      <td>Shoes</td>\n",
       "      <td>15</td>\n",
       "      <td>567</td>\n",
       "      <td>8505</td>\n",
       "      <td>Retail</td>\n",
       "      <td>June</td>\n",
       "    </tr>\n",
       "    <tr>\n",
       "      <th>4</th>\n",
       "      <td>2025-07-02</td>\n",
       "      <td>South</td>\n",
       "      <td>Meera</td>\n",
       "      <td>Socks</td>\n",
       "      <td>4</td>\n",
       "      <td>457</td>\n",
       "      <td>1828</td>\n",
       "      <td>Wholesale</td>\n",
       "      <td>July</td>\n",
       "    </tr>\n",
       "    <tr>\n",
       "      <th>...</th>\n",
       "      <td>...</td>\n",
       "      <td>...</td>\n",
       "      <td>...</td>\n",
       "      <td>...</td>\n",
       "      <td>...</td>\n",
       "      <td>...</td>\n",
       "      <td>...</td>\n",
       "      <td>...</td>\n",
       "      <td>...</td>\n",
       "    </tr>\n",
       "    <tr>\n",
       "      <th>145</th>\n",
       "      <td>2025-09-18</td>\n",
       "      <td>West</td>\n",
       "      <td>Meera</td>\n",
       "      <td>Goal Net</td>\n",
       "      <td>2</td>\n",
       "      <td>1287</td>\n",
       "      <td>2574</td>\n",
       "      <td>Wholesale</td>\n",
       "      <td>September</td>\n",
       "    </tr>\n",
       "    <tr>\n",
       "      <th>146</th>\n",
       "      <td>2025-05-10</td>\n",
       "      <td>South</td>\n",
       "      <td>Kavya</td>\n",
       "      <td>Water Bottle</td>\n",
       "      <td>18</td>\n",
       "      <td>339</td>\n",
       "      <td>6102</td>\n",
       "      <td>Wholesale</td>\n",
       "      <td>May</td>\n",
       "    </tr>\n",
       "    <tr>\n",
       "      <th>147</th>\n",
       "      <td>2025-10-11</td>\n",
       "      <td>North</td>\n",
       "      <td>Kavya</td>\n",
       "      <td>Goal Net</td>\n",
       "      <td>15</td>\n",
       "      <td>2568</td>\n",
       "      <td>38520</td>\n",
       "      <td>Wholesale</td>\n",
       "      <td>October</td>\n",
       "    </tr>\n",
       "    <tr>\n",
       "      <th>148</th>\n",
       "      <td>2025-01-23</td>\n",
       "      <td>South</td>\n",
       "      <td>Aarav</td>\n",
       "      <td>Shin Guards</td>\n",
       "      <td>8</td>\n",
       "      <td>2209</td>\n",
       "      <td>17672</td>\n",
       "      <td>Wholesale</td>\n",
       "      <td>January</td>\n",
       "    </tr>\n",
       "    <tr>\n",
       "      <th>149</th>\n",
       "      <td>2025-06-27</td>\n",
       "      <td>West</td>\n",
       "      <td>Rohan</td>\n",
       "      <td>Jersey</td>\n",
       "      <td>19</td>\n",
       "      <td>1573</td>\n",
       "      <td>29887</td>\n",
       "      <td>Wholesale</td>\n",
       "      <td>June</td>\n",
       "    </tr>\n",
       "  </tbody>\n",
       "</table>\n",
       "<p>150 rows × 9 columns</p>\n",
       "</div>"
      ],
      "text/plain": [
       "          Date Region SalesPerson       Product  Quantity Sold  \\\n",
       "0   2025-07-07  North       Kavya  Water Bottle              9   \n",
       "1   2025-04-13   East       Aarav        Gloves             12   \n",
       "2   2025-07-31  North      Vihaan        Jersey             12   \n",
       "3   2025-06-18  North       Aarav         Shoes             15   \n",
       "4   2025-07-02  South       Meera         Socks              4   \n",
       "..         ...    ...         ...           ...            ...   \n",
       "145 2025-09-18   West       Meera      Goal Net              2   \n",
       "146 2025-05-10  South       Kavya  Water Bottle             18   \n",
       "147 2025-10-11  North       Kavya      Goal Net             15   \n",
       "148 2025-01-23  South       Aarav   Shin Guards              8   \n",
       "149 2025-06-27   West       Rohan        Jersey             19   \n",
       "\n",
       "     Unit Price (₹)  Total Sales (₹) Customer Type      Month  \n",
       "0              1816            16344     Wholesale       July  \n",
       "1              2227            26724     Wholesale      April  \n",
       "2              1194            14328     Wholesale       July  \n",
       "3               567             8505        Retail       June  \n",
       "4               457             1828     Wholesale       July  \n",
       "..              ...              ...           ...        ...  \n",
       "145            1287             2574     Wholesale  September  \n",
       "146             339             6102     Wholesale        May  \n",
       "147            2568            38520     Wholesale    October  \n",
       "148            2209            17672     Wholesale    January  \n",
       "149            1573            29887     Wholesale       June  \n",
       "\n",
       "[150 rows x 9 columns]"
      ]
     },
     "execution_count": 29,
     "metadata": {},
     "output_type": "execute_result"
    }
   ],
   "source": [
    "df"
   ]
  },
  {
   "cell_type": "markdown",
   "id": "20a27694",
   "metadata": {},
   "source": [
    "Q1 - Make a histogram graph on Total Sales."
   ]
  },
  {
   "cell_type": "code",
   "execution_count": 32,
   "id": "ccdb4538",
   "metadata": {},
   "outputs": [
    {
     "data": {
      "text/plain": [
       "<Axes: ylabel='Frequency'>"
      ]
     },
     "execution_count": 32,
     "metadata": {},
     "output_type": "execute_result"
    },
    {
     "data": {
      "image/png": "[encoded data removed]",
      "text/plain": [
       "<Figure size 640x480 with 1 Axes>"
      ]
     },
     "metadata": {},
     "output_type": "display_data"
    }
   ],
   "source": [
    "df['Total Sales (₹)'].plot(kind='hist',color='skyblue',edgecolor='black')"
   ]
  },
  {
   "cell_type": "markdown",
   "id": "3a0910a2",
   "metadata": {},
   "source": [
    "Q2-Make a scatter plotgraph on Product and Date"
   ]
  },
  {
   "cell_type": "code",
   "execution_count": 33,
   "id": "6a0899c3",
   "metadata": {},
   "outputs": [
    {
     "data": {
      "text/plain": [
       "<Axes: xlabel='Date', ylabel='Product'>"
      ]
     },
     "execution_count": 33,
     "metadata": {},
     "output_type": "execute_result"
    },
    {
     "data": {
      "image/png": "[encoded data removed]",
      "text/plain": [
       "<Figure size 640x480 with 1 Axes>"
      ]
     },
     "metadata": {},
     "output_type": "display_data"
    }
   ],
   "source": [
    "df.plot(x='Date',y='Product',kind='scatter',color='red')"
   ]
  },
  {
   "cell_type": "markdown",
   "id": "aca29b6a",
   "metadata": {},
   "source": [
    "Q3 - Make Bar graph of region and Quantity Sold. "
   ]
  },
  {
   "cell_type": "code",
   "execution_count": 34,
   "id": "2c6e2e04",
   "metadata": {},
   "outputs": [
    {
     "data": {
      "text/plain": [
       "<Axes: xlabel='Region'>"
      ]
     },
     "execution_count": 34,
     "metadata": {},
     "output_type": "execute_result"
    },
    {
     "data": {
      "image/png": "[encoded data removed]",
      "text/plain": [
       "<Figure size 640x480 with 1 Axes>"
      ]
     },
     "metadata": {},
     "output_type": "display_data"
    }
   ],
   "source": [
    "df.plot(x=\"Region\", y='Quantity Sold', kind='bar', color='red')"
   ]
  }
 ],
 "metadata": {
  "kernelspec": {
   "display_name": "Python 3",
   "language": "python",
   "name": "python3"
  },
  "language_info": {
   "codemirror_mode": {
    "name": "ipython",
    "version": 3
   },
   "file_extension": ".py",
   "mimetype": "text/x-python",
   "name": "python",
   "nbconvert_exporter": "python",
   "pygments_lexer": "ipython3",
   "version": "3.13.4"
  }
 },
 "nbformat": 4,
 "nbformat_minor": 5
}
